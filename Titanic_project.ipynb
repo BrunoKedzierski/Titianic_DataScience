{
  "cells": [
    {
      "cell_type": "markdown",
      "metadata": {
        "id": "view-in-github",
        "colab_type": "text"
      },
      "source": [
        "<a href=\"https://colab.research.google.com/github/BrunoKedzierski/Titianic_DataScience/blob/main/Titanic_project.ipynb\" target=\"_parent\"><img src=\"https://colab.research.google.com/assets/colab-badge.svg\" alt=\"Open In Colab\"/></a>"
      ]
    },
    {
      "cell_type": "code",
      "execution_count": 1,
      "metadata": {
        "colab": {
          "base_uri": "https://localhost:8080/"
        },
        "id": "TfinWlLIzwzF",
        "outputId": "1f5bf017-84f5-4d0a-a9c2-e76628481e12"
      },
      "outputs": [
        {
          "output_type": "stream",
          "name": "stdout",
          "text": [
            "Mounted at /content/drive\n"
          ]
        }
      ],
      "source": [
        "from google.colab import drive\n",
        "drive.mount('/content/drive')"
      ]
    },
    {
      "cell_type": "markdown",
      "source": [
        "# Step 1: initial exploration and data cleaning\n",
        "\n",
        "\n",
        "---\n",
        "\n",
        "\n",
        "Load data from csv and inspect first rows:\n"
      ],
      "metadata": {
        "id": "sECR6zb7JsHN"
      }
    },
    {
      "cell_type": "code",
      "execution_count": 2,
      "metadata": {
        "colab": {
          "base_uri": "https://localhost:8080/",
          "height": 206
        },
        "id": "Itwegh1H0ymD",
        "outputId": "6dd49d20-64a5-4bdc-ebc7-ad21c4ba4bd2"
      },
      "outputs": [
        {
          "output_type": "execute_result",
          "data": {
            "text/plain": [
              "   pclass  survived                                             name     sex  \\\n",
              "0       1         1                    Allen, Miss. Elisabeth Walton  female   \n",
              "1       1         1                   Allison, Master. Hudson Trevor    male   \n",
              "2       1         0                     Allison, Miss. Helen Loraine  female   \n",
              "3       1         0             Allison, Mr. Hudson Joshua Creighton    male   \n",
              "4       1         0  Allison, Mrs. Hudson J C (Bessie Waldo Daniels)  female   \n",
              "\n",
              "       age  sibsp  parch  ticket      fare    cabin embarked boat   body  \\\n",
              "0  29.0000      0      0   24160  211.3375       B5        S    2    NaN   \n",
              "1   0.9167      1      2  113781  151.5500  C22 C26        S   11    NaN   \n",
              "2   2.0000      1      2  113781  151.5500  C22 C26        S  NaN    NaN   \n",
              "3  30.0000      1      2  113781  151.5500  C22 C26        S  NaN  135.0   \n",
              "4  25.0000      1      2  113781  151.5500  C22 C26        S  NaN    NaN   \n",
              "\n",
              "                         home_dest  \n",
              "0                     St Louis, MO  \n",
              "1  Montreal, PQ / Chesterville, ON  \n",
              "2  Montreal, PQ / Chesterville, ON  \n",
              "3  Montreal, PQ / Chesterville, ON  \n",
              "4  Montreal, PQ / Chesterville, ON  "
            ],
            "text/html": [
              "\n",
              "  <div id=\"df-c8c4be60-cd88-4c33-9d5c-a7fee7f08ef5\">\n",
              "    <div class=\"colab-df-container\">\n",
              "      <div>\n",
              "<style scoped>\n",
              "    .dataframe tbody tr th:only-of-type {\n",
              "        vertical-align: middle;\n",
              "    }\n",
              "\n",
              "    .dataframe tbody tr th {\n",
              "        vertical-align: top;\n",
              "    }\n",
              "\n",
              "    .dataframe thead th {\n",
              "        text-align: right;\n",
              "    }\n",
              "</style>\n",
              "<table border=\"1\" class=\"dataframe\">\n",
              "  <thead>\n",
              "    <tr style=\"text-align: right;\">\n",
              "      <th></th>\n",
              "      <th>pclass</th>\n",
              "      <th>survived</th>\n",
              "      <th>name</th>\n",
              "      <th>sex</th>\n",
              "      <th>age</th>\n",
              "      <th>sibsp</th>\n",
              "      <th>parch</th>\n",
              "      <th>ticket</th>\n",
              "      <th>fare</th>\n",
              "      <th>cabin</th>\n",
              "      <th>embarked</th>\n",
              "      <th>boat</th>\n",
              "      <th>body</th>\n",
              "      <th>home_dest</th>\n",
              "    </tr>\n",
              "  </thead>\n",
              "  <tbody>\n",
              "    <tr>\n",
              "      <th>0</th>\n",
              "      <td>1</td>\n",
              "      <td>1</td>\n",
              "      <td>Allen, Miss. Elisabeth Walton</td>\n",
              "      <td>female</td>\n",
              "      <td>29.0000</td>\n",
              "      <td>0</td>\n",
              "      <td>0</td>\n",
              "      <td>24160</td>\n",
              "      <td>211.3375</td>\n",
              "      <td>B5</td>\n",
              "      <td>S</td>\n",
              "      <td>2</td>\n",
              "      <td>NaN</td>\n",
              "      <td>St Louis, MO</td>\n",
              "    </tr>\n",
              "    <tr>\n",
              "      <th>1</th>\n",
              "      <td>1</td>\n",
              "      <td>1</td>\n",
              "      <td>Allison, Master. Hudson Trevor</td>\n",
              "      <td>male</td>\n",
              "      <td>0.9167</td>\n",
              "      <td>1</td>\n",
              "      <td>2</td>\n",
              "      <td>113781</td>\n",
              "      <td>151.5500</td>\n",
              "      <td>C22 C26</td>\n",
              "      <td>S</td>\n",
              "      <td>11</td>\n",
              "      <td>NaN</td>\n",
              "      <td>Montreal, PQ / Chesterville, ON</td>\n",
              "    </tr>\n",
              "    <tr>\n",
              "      <th>2</th>\n",
              "      <td>1</td>\n",
              "      <td>0</td>\n",
              "      <td>Allison, Miss. Helen Loraine</td>\n",
              "      <td>female</td>\n",
              "      <td>2.0000</td>\n",
              "      <td>1</td>\n",
              "      <td>2</td>\n",
              "      <td>113781</td>\n",
              "      <td>151.5500</td>\n",
              "      <td>C22 C26</td>\n",
              "      <td>S</td>\n",
              "      <td>NaN</td>\n",
              "      <td>NaN</td>\n",
              "      <td>Montreal, PQ / Chesterville, ON</td>\n",
              "    </tr>\n",
              "    <tr>\n",
              "      <th>3</th>\n",
              "      <td>1</td>\n",
              "      <td>0</td>\n",
              "      <td>Allison, Mr. Hudson Joshua Creighton</td>\n",
              "      <td>male</td>\n",
              "      <td>30.0000</td>\n",
              "      <td>1</td>\n",
              "      <td>2</td>\n",
              "      <td>113781</td>\n",
              "      <td>151.5500</td>\n",
              "      <td>C22 C26</td>\n",
              "      <td>S</td>\n",
              "      <td>NaN</td>\n",
              "      <td>135.0</td>\n",
              "      <td>Montreal, PQ / Chesterville, ON</td>\n",
              "    </tr>\n",
              "    <tr>\n",
              "      <th>4</th>\n",
              "      <td>1</td>\n",
              "      <td>0</td>\n",
              "      <td>Allison, Mrs. Hudson J C (Bessie Waldo Daniels)</td>\n",
              "      <td>female</td>\n",
              "      <td>25.0000</td>\n",
              "      <td>1</td>\n",
              "      <td>2</td>\n",
              "      <td>113781</td>\n",
              "      <td>151.5500</td>\n",
              "      <td>C22 C26</td>\n",
              "      <td>S</td>\n",
              "      <td>NaN</td>\n",
              "      <td>NaN</td>\n",
              "      <td>Montreal, PQ / Chesterville, ON</td>\n",
              "    </tr>\n",
              "  </tbody>\n",
              "</table>\n",
              "</div>\n",
              "      <button class=\"colab-df-convert\" onclick=\"convertToInteractive('df-c8c4be60-cd88-4c33-9d5c-a7fee7f08ef5')\"\n",
              "              title=\"Convert this dataframe to an interactive table.\"\n",
              "              style=\"display:none;\">\n",
              "        \n",
              "  <svg xmlns=\"http://www.w3.org/2000/svg\" height=\"24px\"viewBox=\"0 0 24 24\"\n",
              "       width=\"24px\">\n",
              "    <path d=\"M0 0h24v24H0V0z\" fill=\"none\"/>\n",
              "    <path d=\"M18.56 5.44l.94 2.06.94-2.06 2.06-.94-2.06-.94-.94-2.06-.94 2.06-2.06.94zm-11 1L8.5 8.5l.94-2.06 2.06-.94-2.06-.94L8.5 2.5l-.94 2.06-2.06.94zm10 10l.94 2.06.94-2.06 2.06-.94-2.06-.94-.94-2.06-.94 2.06-2.06.94z\"/><path d=\"M17.41 7.96l-1.37-1.37c-.4-.4-.92-.59-1.43-.59-.52 0-1.04.2-1.43.59L10.3 9.45l-7.72 7.72c-.78.78-.78 2.05 0 2.83L4 21.41c.39.39.9.59 1.41.59.51 0 1.02-.2 1.41-.59l7.78-7.78 2.81-2.81c.8-.78.8-2.07 0-2.86zM5.41 20L4 18.59l7.72-7.72 1.47 1.35L5.41 20z\"/>\n",
              "  </svg>\n",
              "      </button>\n",
              "      \n",
              "  <style>\n",
              "    .colab-df-container {\n",
              "      display:flex;\n",
              "      flex-wrap:wrap;\n",
              "      gap: 12px;\n",
              "    }\n",
              "\n",
              "    .colab-df-convert {\n",
              "      background-color: #E8F0FE;\n",
              "      border: none;\n",
              "      border-radius: 50%;\n",
              "      cursor: pointer;\n",
              "      display: none;\n",
              "      fill: #1967D2;\n",
              "      height: 32px;\n",
              "      padding: 0 0 0 0;\n",
              "      width: 32px;\n",
              "    }\n",
              "\n",
              "    .colab-df-convert:hover {\n",
              "      background-color: #E2EBFA;\n",
              "      box-shadow: 0px 1px 2px rgba(60, 64, 67, 0.3), 0px 1px 3px 1px rgba(60, 64, 67, 0.15);\n",
              "      fill: #174EA6;\n",
              "    }\n",
              "\n",
              "    [theme=dark] .colab-df-convert {\n",
              "      background-color: #3B4455;\n",
              "      fill: #D2E3FC;\n",
              "    }\n",
              "\n",
              "    [theme=dark] .colab-df-convert:hover {\n",
              "      background-color: #434B5C;\n",
              "      box-shadow: 0px 1px 3px 1px rgba(0, 0, 0, 0.15);\n",
              "      filter: drop-shadow(0px 1px 2px rgba(0, 0, 0, 0.3));\n",
              "      fill: #FFFFFF;\n",
              "    }\n",
              "  </style>\n",
              "\n",
              "      <script>\n",
              "        const buttonEl =\n",
              "          document.querySelector('#df-c8c4be60-cd88-4c33-9d5c-a7fee7f08ef5 button.colab-df-convert');\n",
              "        buttonEl.style.display =\n",
              "          google.colab.kernel.accessAllowed ? 'block' : 'none';\n",
              "\n",
              "        async function convertToInteractive(key) {\n",
              "          const element = document.querySelector('#df-c8c4be60-cd88-4c33-9d5c-a7fee7f08ef5');\n",
              "          const dataTable =\n",
              "            await google.colab.kernel.invokeFunction('convertToInteractive',\n",
              "                                                     [key], {});\n",
              "          if (!dataTable) return;\n",
              "\n",
              "          const docLinkHtml = 'Like what you see? Visit the ' +\n",
              "            '<a target=\"_blank\" href=https://colab.research.google.com/notebooks/data_table.ipynb>data table notebook</a>'\n",
              "            + ' to learn more about interactive tables.';\n",
              "          element.innerHTML = '';\n",
              "          dataTable['output_type'] = 'display_data';\n",
              "          await google.colab.output.renderOutput(dataTable, element);\n",
              "          const docLink = document.createElement('div');\n",
              "          docLink.innerHTML = docLinkHtml;\n",
              "          element.appendChild(docLink);\n",
              "        }\n",
              "      </script>\n",
              "    </div>\n",
              "  </div>\n",
              "  "
            ]
          },
          "metadata": {},
          "execution_count": 2
        }
      ],
      "source": [
        "import pandas as pd\n",
        "import numpy as np\n",
        "\n",
        "titanic_data = pd.read_csv('/content/drive/MyDrive/Colab Notebooks/titanic.csv')\n",
        "titanic_data.head()\n"
      ]
    },
    {
      "cell_type": "markdown",
      "source": [
        "Calculate the percentage of missing values for each column:\n",
        "\n",
        "\n",
        "---\n",
        "\n"
      ],
      "metadata": {
        "id": "0loQ-bEAKiAf"
      }
    },
    {
      "cell_type": "code",
      "source": [
        "titanic_data.isna().sum()/len(titanic_data.index)"
      ],
      "metadata": {
        "colab": {
          "base_uri": "https://localhost:8080/"
        },
        "id": "PD6aruXNRvWj",
        "outputId": "9039795b-30e5-4013-b289-b4275589d05f"
      },
      "execution_count": 3,
      "outputs": [
        {
          "output_type": "execute_result",
          "data": {
            "text/plain": [
              "pclass       0.000000\n",
              "survived     0.000000\n",
              "name         0.000000\n",
              "sex          0.000000\n",
              "age          0.200917\n",
              "sibsp        0.000000\n",
              "parch        0.000000\n",
              "ticket       0.000000\n",
              "fare         0.000764\n",
              "cabin        0.774637\n",
              "embarked     0.001528\n",
              "boat         0.628724\n",
              "body         0.907563\n",
              "home_dest    0.430863\n",
              "dtype: float64"
            ]
          },
          "metadata": {},
          "execution_count": 3
        }
      ]
    },
    {
      "cell_type": "markdown",
      "source": [
        "Drop all columns which have more then 1/3 missing values, then show descriptive statistics for each column.\n",
        "\n",
        "\n",
        "---\n",
        "\n"
      ],
      "metadata": {
        "id": "YhJ4zUlVKxL3"
      }
    },
    {
      "cell_type": "code",
      "source": [
        "titanic_data = titanic_data.drop(columns=['boat', 'body','ticket', 'cabin','home_dest'])\n",
        "titanic_data.describe()"
      ],
      "metadata": {
        "id": "CiFlCIS5zSUn",
        "colab": {
          "base_uri": "https://localhost:8080/",
          "height": 300
        },
        "outputId": "ffa9ee6c-a39a-4d8c-b914-000af46e9812"
      },
      "execution_count": 4,
      "outputs": [
        {
          "output_type": "execute_result",
          "data": {
            "text/plain": [
              "            pclass     survived          age        sibsp        parch  \\\n",
              "count  1309.000000  1309.000000  1046.000000  1309.000000  1309.000000   \n",
              "mean      2.294882     0.381971    29.881135     0.498854     0.385027   \n",
              "std       0.837836     0.486055    14.413500     1.041658     0.865560   \n",
              "min       1.000000     0.000000     0.166700     0.000000     0.000000   \n",
              "25%       2.000000     0.000000    21.000000     0.000000     0.000000   \n",
              "50%       3.000000     0.000000    28.000000     0.000000     0.000000   \n",
              "75%       3.000000     1.000000    39.000000     1.000000     0.000000   \n",
              "max       3.000000     1.000000    80.000000     8.000000     9.000000   \n",
              "\n",
              "              fare  \n",
              "count  1308.000000  \n",
              "mean     33.295479  \n",
              "std      51.758668  \n",
              "min       0.000000  \n",
              "25%       7.895800  \n",
              "50%      14.454200  \n",
              "75%      31.275000  \n",
              "max     512.329200  "
            ],
            "text/html": [
              "\n",
              "  <div id=\"df-34da7599-2e7a-4a53-976a-2d3ff3ded71a\">\n",
              "    <div class=\"colab-df-container\">\n",
              "      <div>\n",
              "<style scoped>\n",
              "    .dataframe tbody tr th:only-of-type {\n",
              "        vertical-align: middle;\n",
              "    }\n",
              "\n",
              "    .dataframe tbody tr th {\n",
              "        vertical-align: top;\n",
              "    }\n",
              "\n",
              "    .dataframe thead th {\n",
              "        text-align: right;\n",
              "    }\n",
              "</style>\n",
              "<table border=\"1\" class=\"dataframe\">\n",
              "  <thead>\n",
              "    <tr style=\"text-align: right;\">\n",
              "      <th></th>\n",
              "      <th>pclass</th>\n",
              "      <th>survived</th>\n",
              "      <th>age</th>\n",
              "      <th>sibsp</th>\n",
              "      <th>parch</th>\n",
              "      <th>fare</th>\n",
              "    </tr>\n",
              "  </thead>\n",
              "  <tbody>\n",
              "    <tr>\n",
              "      <th>count</th>\n",
              "      <td>1309.000000</td>\n",
              "      <td>1309.000000</td>\n",
              "      <td>1046.000000</td>\n",
              "      <td>1309.000000</td>\n",
              "      <td>1309.000000</td>\n",
              "      <td>1308.000000</td>\n",
              "    </tr>\n",
              "    <tr>\n",
              "      <th>mean</th>\n",
              "      <td>2.294882</td>\n",
              "      <td>0.381971</td>\n",
              "      <td>29.881135</td>\n",
              "      <td>0.498854</td>\n",
              "      <td>0.385027</td>\n",
              "      <td>33.295479</td>\n",
              "    </tr>\n",
              "    <tr>\n",
              "      <th>std</th>\n",
              "      <td>0.837836</td>\n",
              "      <td>0.486055</td>\n",
              "      <td>14.413500</td>\n",
              "      <td>1.041658</td>\n",
              "      <td>0.865560</td>\n",
              "      <td>51.758668</td>\n",
              "    </tr>\n",
              "    <tr>\n",
              "      <th>min</th>\n",
              "      <td>1.000000</td>\n",
              "      <td>0.000000</td>\n",
              "      <td>0.166700</td>\n",
              "      <td>0.000000</td>\n",
              "      <td>0.000000</td>\n",
              "      <td>0.000000</td>\n",
              "    </tr>\n",
              "    <tr>\n",
              "      <th>25%</th>\n",
              "      <td>2.000000</td>\n",
              "      <td>0.000000</td>\n",
              "      <td>21.000000</td>\n",
              "      <td>0.000000</td>\n",
              "      <td>0.000000</td>\n",
              "      <td>7.895800</td>\n",
              "    </tr>\n",
              "    <tr>\n",
              "      <th>50%</th>\n",
              "      <td>3.000000</td>\n",
              "      <td>0.000000</td>\n",
              "      <td>28.000000</td>\n",
              "      <td>0.000000</td>\n",
              "      <td>0.000000</td>\n",
              "      <td>14.454200</td>\n",
              "    </tr>\n",
              "    <tr>\n",
              "      <th>75%</th>\n",
              "      <td>3.000000</td>\n",
              "      <td>1.000000</td>\n",
              "      <td>39.000000</td>\n",
              "      <td>1.000000</td>\n",
              "      <td>0.000000</td>\n",
              "      <td>31.275000</td>\n",
              "    </tr>\n",
              "    <tr>\n",
              "      <th>max</th>\n",
              "      <td>3.000000</td>\n",
              "      <td>1.000000</td>\n",
              "      <td>80.000000</td>\n",
              "      <td>8.000000</td>\n",
              "      <td>9.000000</td>\n",
              "      <td>512.329200</td>\n",
              "    </tr>\n",
              "  </tbody>\n",
              "</table>\n",
              "</div>\n",
              "      <button class=\"colab-df-convert\" onclick=\"convertToInteractive('df-34da7599-2e7a-4a53-976a-2d3ff3ded71a')\"\n",
              "              title=\"Convert this dataframe to an interactive table.\"\n",
              "              style=\"display:none;\">\n",
              "        \n",
              "  <svg xmlns=\"http://www.w3.org/2000/svg\" height=\"24px\"viewBox=\"0 0 24 24\"\n",
              "       width=\"24px\">\n",
              "    <path d=\"M0 0h24v24H0V0z\" fill=\"none\"/>\n",
              "    <path d=\"M18.56 5.44l.94 2.06.94-2.06 2.06-.94-2.06-.94-.94-2.06-.94 2.06-2.06.94zm-11 1L8.5 8.5l.94-2.06 2.06-.94-2.06-.94L8.5 2.5l-.94 2.06-2.06.94zm10 10l.94 2.06.94-2.06 2.06-.94-2.06-.94-.94-2.06-.94 2.06-2.06.94z\"/><path d=\"M17.41 7.96l-1.37-1.37c-.4-.4-.92-.59-1.43-.59-.52 0-1.04.2-1.43.59L10.3 9.45l-7.72 7.72c-.78.78-.78 2.05 0 2.83L4 21.41c.39.39.9.59 1.41.59.51 0 1.02-.2 1.41-.59l7.78-7.78 2.81-2.81c.8-.78.8-2.07 0-2.86zM5.41 20L4 18.59l7.72-7.72 1.47 1.35L5.41 20z\"/>\n",
              "  </svg>\n",
              "      </button>\n",
              "      \n",
              "  <style>\n",
              "    .colab-df-container {\n",
              "      display:flex;\n",
              "      flex-wrap:wrap;\n",
              "      gap: 12px;\n",
              "    }\n",
              "\n",
              "    .colab-df-convert {\n",
              "      background-color: #E8F0FE;\n",
              "      border: none;\n",
              "      border-radius: 50%;\n",
              "      cursor: pointer;\n",
              "      display: none;\n",
              "      fill: #1967D2;\n",
              "      height: 32px;\n",
              "      padding: 0 0 0 0;\n",
              "      width: 32px;\n",
              "    }\n",
              "\n",
              "    .colab-df-convert:hover {\n",
              "      background-color: #E2EBFA;\n",
              "      box-shadow: 0px 1px 2px rgba(60, 64, 67, 0.3), 0px 1px 3px 1px rgba(60, 64, 67, 0.15);\n",
              "      fill: #174EA6;\n",
              "    }\n",
              "\n",
              "    [theme=dark] .colab-df-convert {\n",
              "      background-color: #3B4455;\n",
              "      fill: #D2E3FC;\n",
              "    }\n",
              "\n",
              "    [theme=dark] .colab-df-convert:hover {\n",
              "      background-color: #434B5C;\n",
              "      box-shadow: 0px 1px 3px 1px rgba(0, 0, 0, 0.15);\n",
              "      filter: drop-shadow(0px 1px 2px rgba(0, 0, 0, 0.3));\n",
              "      fill: #FFFFFF;\n",
              "    }\n",
              "  </style>\n",
              "\n",
              "      <script>\n",
              "        const buttonEl =\n",
              "          document.querySelector('#df-34da7599-2e7a-4a53-976a-2d3ff3ded71a button.colab-df-convert');\n",
              "        buttonEl.style.display =\n",
              "          google.colab.kernel.accessAllowed ? 'block' : 'none';\n",
              "\n",
              "        async function convertToInteractive(key) {\n",
              "          const element = document.querySelector('#df-34da7599-2e7a-4a53-976a-2d3ff3ded71a');\n",
              "          const dataTable =\n",
              "            await google.colab.kernel.invokeFunction('convertToInteractive',\n",
              "                                                     [key], {});\n",
              "          if (!dataTable) return;\n",
              "\n",
              "          const docLinkHtml = 'Like what you see? Visit the ' +\n",
              "            '<a target=\"_blank\" href=https://colab.research.google.com/notebooks/data_table.ipynb>data table notebook</a>'\n",
              "            + ' to learn more about interactive tables.';\n",
              "          element.innerHTML = '';\n",
              "          dataTable['output_type'] = 'display_data';\n",
              "          await google.colab.output.renderOutput(dataTable, element);\n",
              "          const docLink = document.createElement('div');\n",
              "          docLink.innerHTML = docLinkHtml;\n",
              "          element.appendChild(docLink);\n",
              "        }\n",
              "      </script>\n",
              "    </div>\n",
              "  </div>\n",
              "  "
            ]
          },
          "metadata": {},
          "execution_count": 4
        }
      ]
    },
    {
      "cell_type": "markdown",
      "source": [
        "# Step 2: feature engineering\n",
        "\n",
        "\n",
        "---\n",
        "Creating the \"demographic\" category feature, based on titles/honorifics. Then printing all titles"
      ],
      "metadata": {
        "id": "vttsIrWsK9h2"
      }
    },
    {
      "cell_type": "code",
      "execution_count": 5,
      "metadata": {
        "colab": {
          "base_uri": "https://localhost:8080/"
        },
        "id": "mAh5FK5RFmC9",
        "outputId": "ce63da7f-147d-4c6e-ea36-3bd369c1a675"
      },
      "outputs": [
        {
          "output_type": "execute_result",
          "data": {
            "text/plain": [
              "array(['Miss.', 'Master.', 'Mr.', 'Mrs.', 'Col.', 'Mme.', 'Dr.', 'Major.',\n",
              "       'Capt.', 'Lady.', 'Sir.', 'Mlle.', 'Dona.', 'Jonkheer.',\n",
              "       'Countess.', 'Don.', 'Rev.', 'Ms.'], dtype=object)"
            ]
          },
          "metadata": {},
          "execution_count": 5
        }
      ],
      "source": [
        "import re\n",
        "titanic_data['demographic_class'] = titanic_data['name'].apply(lambda x: re.findall('[A-Z][a-z]*\\\\.',x)[0])\n",
        "titanic_data['demographic_class'].unique()\n"
      ]
    },
    {
      "cell_type": "markdown",
      "source": [
        "Use the demographic class to impute missing age values - I assume that people having similar titles migh be of smiliar age. I compute mean age by class and impute missing age values\n",
        "\n",
        "\n",
        "---\n",
        "\n"
      ],
      "metadata": {
        "id": "04iK53SdMVKy"
      }
    },
    {
      "cell_type": "code",
      "execution_count": 6,
      "metadata": {
        "id": "jkkit5P-to8W"
      },
      "outputs": [],
      "source": [
        "age_by_class = titanic_data[['demographic_class','age']].groupby('demographic_class').mean(['age'])\n",
        "titanic_data['age'] = titanic_data.apply(lambda row: age_by_class.loc[row['demographic_class']]['age'] if np.isnan(row['age']) else row['age'], axis=1) "
      ]
    },
    {
      "cell_type": "markdown",
      "source": [
        "Create age bins - binning age values into: infants, children, teenager and adults\n",
        "\n",
        "\n",
        "---\n",
        "\n"
      ],
      "metadata": {
        "id": "eKt4-cRtMm7P"
      }
    },
    {
      "cell_type": "code",
      "source": [
        "def age_bins(age):\n",
        "  if age <= 6:\n",
        "    return \"infant\"\n",
        "  elif age <=12:\n",
        "    return \"child\"\n",
        "  elif age <=18:\n",
        "    return \"teenager\"\n",
        "  return \"adult\"\n",
        "titanic_data['age_range']  = titanic_data['age'].apply(age_bins)\n",
        "\n"
      ],
      "metadata": {
        "id": "d3Qcl85gtr3o"
      },
      "execution_count": 7,
      "outputs": []
    },
    {
      "cell_type": "markdown",
      "source": [
        "calcualting two addinitional features - family sizes and mpc\n",
        "\n",
        "\n",
        "---\n",
        "\n"
      ],
      "metadata": {
        "id": "l4KNIgOPM5t5"
      }
    },
    {
      "cell_type": "code",
      "source": [
        "titanic_data['family_size'] = titanic_data['parch'] + titanic_data['sibsp'] +1\n",
        "titanic_data['mpc'] = titanic_data['age'] * titanic_data['pclass']"
      ],
      "metadata": {
        "id": "TvF1jfISM4Lv"
      },
      "execution_count": 8,
      "outputs": []
    },
    {
      "cell_type": "markdown",
      "source": [
        "again inspecting missing values - we still have NA's in fare and embarked \n",
        "features\n",
        "\n",
        "\n",
        "---\n",
        "\n"
      ],
      "metadata": {
        "id": "yVb7BOjfMveL"
      }
    },
    {
      "cell_type": "code",
      "source": [
        "titanic_data.isna().sum()"
      ],
      "metadata": {
        "colab": {
          "base_uri": "https://localhost:8080/"
        },
        "id": "KTBi-vf3x9TC",
        "outputId": "5f56aa3e-73ca-40dc-9139-a86ad9d92104"
      },
      "execution_count": 9,
      "outputs": [
        {
          "output_type": "execute_result",
          "data": {
            "text/plain": [
              "pclass               0\n",
              "survived             0\n",
              "name                 0\n",
              "sex                  0\n",
              "age                  0\n",
              "sibsp                0\n",
              "parch                0\n",
              "fare                 1\n",
              "embarked             2\n",
              "demographic_class    0\n",
              "age_range            0\n",
              "family_size          0\n",
              "mpc                  0\n",
              "dtype: int64"
            ]
          },
          "metadata": {},
          "execution_count": 9
        }
      ]
    },
    {
      "cell_type": "markdown",
      "source": [
        "to impute fare values I use a mean for each pclass - I assume that ticket prices are mostly dependent on the class\n",
        "\n",
        "\n",
        "---\n",
        "\n"
      ],
      "metadata": {
        "id": "2od3kqmWNT9Q"
      }
    },
    {
      "cell_type": "code",
      "source": [
        "fare_by_class = titanic_data[['fare','pclass']].groupby('pclass').mean(['fare'])\n",
        "titanic_data['fare'] = titanic_data.apply(lambda row: fare_by_class.loc[row['pclass']]['fare'] if np.isnan(row['fare']) else row['fare'], axis=1) "
      ],
      "metadata": {
        "id": "elHeID5-1qBN"
      },
      "execution_count": 10,
      "outputs": []
    },
    {
      "cell_type": "markdown",
      "source": [
        "for the embarked column, which is just the name of the embarked port - I impute the values by using the most frequent port.\n",
        "\n",
        "\n",
        "---\n",
        "\n"
      ],
      "metadata": {
        "id": "Bl9oe0gtNcD1"
      }
    },
    {
      "cell_type": "code",
      "source": [
        "from sklearn.impute import SimpleImputer\n",
        "imp = SimpleImputer(missing_values=np.nan, strategy='most_frequent')\n",
        "titanic_data['embarked'] = imp.fit_transform(titanic_data['embarked'].values.reshape(-1, 1))"
      ],
      "metadata": {
        "id": "0qmz_eik2PVv"
      },
      "execution_count": 11,
      "outputs": []
    },
    {
      "cell_type": "markdown",
      "source": [
        "Finally the data has no missing values\n",
        "\n",
        "\n",
        "---\n",
        "\n"
      ],
      "metadata": {
        "id": "vkA4VjH3NtcG"
      }
    },
    {
      "cell_type": "code",
      "source": [
        "titanic_data.isna().sum()"
      ],
      "metadata": {
        "colab": {
          "base_uri": "https://localhost:8080/"
        },
        "id": "VW2Q6ZTFFjoN",
        "outputId": "7db86216-2690-48f2-869b-98c6ce652b64"
      },
      "execution_count": 12,
      "outputs": [
        {
          "output_type": "execute_result",
          "data": {
            "text/plain": [
              "pclass               0\n",
              "survived             0\n",
              "name                 0\n",
              "sex                  0\n",
              "age                  0\n",
              "sibsp                0\n",
              "parch                0\n",
              "fare                 0\n",
              "embarked             0\n",
              "demographic_class    0\n",
              "age_range            0\n",
              "family_size          0\n",
              "mpc                  0\n",
              "dtype: int64"
            ]
          },
          "metadata": {},
          "execution_count": 12
        }
      ]
    },
    {
      "cell_type": "code",
      "source": [
        "titanic_data.describe()"
      ],
      "metadata": {
        "colab": {
          "base_uri": "https://localhost:8080/",
          "height": 300
        },
        "id": "64FGbKHUe3f8",
        "outputId": "4f3d5a50-7691-4c56-ffc8-5b0dc72b71a6"
      },
      "execution_count": 13,
      "outputs": [
        {
          "output_type": "execute_result",
          "data": {
            "text/plain": [
              "            pclass     survived          age        sibsp        parch  \\\n",
              "count  1309.000000  1309.000000  1309.000000  1309.000000  1309.000000   \n",
              "mean      2.294882     0.381971    29.896891     0.498854     0.385027   \n",
              "std       0.837836     0.486055    13.193809     1.041658     0.865560   \n",
              "min       1.000000     0.000000     0.166700     0.000000     0.000000   \n",
              "25%       2.000000     0.000000    21.774207     0.000000     0.000000   \n",
              "50%       3.000000     0.000000    30.000000     0.000000     0.000000   \n",
              "75%       3.000000     1.000000    36.000000     1.000000     0.000000   \n",
              "max       3.000000     1.000000    80.000000     8.000000     9.000000   \n",
              "\n",
              "              fare  family_size          mpc  \n",
              "count  1309.000000  1309.000000  1309.000000  \n",
              "mean     33.280206     1.883881    64.437736  \n",
              "std      51.741830     1.583639    32.369252  \n",
              "min       0.000000     1.000000     0.500100  \n",
              "25%       7.895800     1.000000    42.000000  \n",
              "50%      14.454200     1.000000    63.000000  \n",
              "75%      31.275000     2.000000    90.000000  \n",
              "max     512.329200    11.000000   222.000000  "
            ],
            "text/html": [
              "\n",
              "  <div id=\"df-5d08063a-ce0d-4715-ba00-ee021b84b42b\">\n",
              "    <div class=\"colab-df-container\">\n",
              "      <div>\n",
              "<style scoped>\n",
              "    .dataframe tbody tr th:only-of-type {\n",
              "        vertical-align: middle;\n",
              "    }\n",
              "\n",
              "    .dataframe tbody tr th {\n",
              "        vertical-align: top;\n",
              "    }\n",
              "\n",
              "    .dataframe thead th {\n",
              "        text-align: right;\n",
              "    }\n",
              "</style>\n",
              "<table border=\"1\" class=\"dataframe\">\n",
              "  <thead>\n",
              "    <tr style=\"text-align: right;\">\n",
              "      <th></th>\n",
              "      <th>pclass</th>\n",
              "      <th>survived</th>\n",
              "      <th>age</th>\n",
              "      <th>sibsp</th>\n",
              "      <th>parch</th>\n",
              "      <th>fare</th>\n",
              "      <th>family_size</th>\n",
              "      <th>mpc</th>\n",
              "    </tr>\n",
              "  </thead>\n",
              "  <tbody>\n",
              "    <tr>\n",
              "      <th>count</th>\n",
              "      <td>1309.000000</td>\n",
              "      <td>1309.000000</td>\n",
              "      <td>1309.000000</td>\n",
              "      <td>1309.000000</td>\n",
              "      <td>1309.000000</td>\n",
              "      <td>1309.000000</td>\n",
              "      <td>1309.000000</td>\n",
              "      <td>1309.000000</td>\n",
              "    </tr>\n",
              "    <tr>\n",
              "      <th>mean</th>\n",
              "      <td>2.294882</td>\n",
              "      <td>0.381971</td>\n",
              "      <td>29.896891</td>\n",
              "      <td>0.498854</td>\n",
              "      <td>0.385027</td>\n",
              "      <td>33.280206</td>\n",
              "      <td>1.883881</td>\n",
              "      <td>64.437736</td>\n",
              "    </tr>\n",
              "    <tr>\n",
              "      <th>std</th>\n",
              "      <td>0.837836</td>\n",
              "      <td>0.486055</td>\n",
              "      <td>13.193809</td>\n",
              "      <td>1.041658</td>\n",
              "      <td>0.865560</td>\n",
              "      <td>51.741830</td>\n",
              "      <td>1.583639</td>\n",
              "      <td>32.369252</td>\n",
              "    </tr>\n",
              "    <tr>\n",
              "      <th>min</th>\n",
              "      <td>1.000000</td>\n",
              "      <td>0.000000</td>\n",
              "      <td>0.166700</td>\n",
              "      <td>0.000000</td>\n",
              "      <td>0.000000</td>\n",
              "      <td>0.000000</td>\n",
              "      <td>1.000000</td>\n",
              "      <td>0.500100</td>\n",
              "    </tr>\n",
              "    <tr>\n",
              "      <th>25%</th>\n",
              "      <td>2.000000</td>\n",
              "      <td>0.000000</td>\n",
              "      <td>21.774207</td>\n",
              "      <td>0.000000</td>\n",
              "      <td>0.000000</td>\n",
              "      <td>7.895800</td>\n",
              "      <td>1.000000</td>\n",
              "      <td>42.000000</td>\n",
              "    </tr>\n",
              "    <tr>\n",
              "      <th>50%</th>\n",
              "      <td>3.000000</td>\n",
              "      <td>0.000000</td>\n",
              "      <td>30.000000</td>\n",
              "      <td>0.000000</td>\n",
              "      <td>0.000000</td>\n",
              "      <td>14.454200</td>\n",
              "      <td>1.000000</td>\n",
              "      <td>63.000000</td>\n",
              "    </tr>\n",
              "    <tr>\n",
              "      <th>75%</th>\n",
              "      <td>3.000000</td>\n",
              "      <td>1.000000</td>\n",
              "      <td>36.000000</td>\n",
              "      <td>1.000000</td>\n",
              "      <td>0.000000</td>\n",
              "      <td>31.275000</td>\n",
              "      <td>2.000000</td>\n",
              "      <td>90.000000</td>\n",
              "    </tr>\n",
              "    <tr>\n",
              "      <th>max</th>\n",
              "      <td>3.000000</td>\n",
              "      <td>1.000000</td>\n",
              "      <td>80.000000</td>\n",
              "      <td>8.000000</td>\n",
              "      <td>9.000000</td>\n",
              "      <td>512.329200</td>\n",
              "      <td>11.000000</td>\n",
              "      <td>222.000000</td>\n",
              "    </tr>\n",
              "  </tbody>\n",
              "</table>\n",
              "</div>\n",
              "      <button class=\"colab-df-convert\" onclick=\"convertToInteractive('df-5d08063a-ce0d-4715-ba00-ee021b84b42b')\"\n",
              "              title=\"Convert this dataframe to an interactive table.\"\n",
              "              style=\"display:none;\">\n",
              "        \n",
              "  <svg xmlns=\"http://www.w3.org/2000/svg\" height=\"24px\"viewBox=\"0 0 24 24\"\n",
              "       width=\"24px\">\n",
              "    <path d=\"M0 0h24v24H0V0z\" fill=\"none\"/>\n",
              "    <path d=\"M18.56 5.44l.94 2.06.94-2.06 2.06-.94-2.06-.94-.94-2.06-.94 2.06-2.06.94zm-11 1L8.5 8.5l.94-2.06 2.06-.94-2.06-.94L8.5 2.5l-.94 2.06-2.06.94zm10 10l.94 2.06.94-2.06 2.06-.94-2.06-.94-.94-2.06-.94 2.06-2.06.94z\"/><path d=\"M17.41 7.96l-1.37-1.37c-.4-.4-.92-.59-1.43-.59-.52 0-1.04.2-1.43.59L10.3 9.45l-7.72 7.72c-.78.78-.78 2.05 0 2.83L4 21.41c.39.39.9.59 1.41.59.51 0 1.02-.2 1.41-.59l7.78-7.78 2.81-2.81c.8-.78.8-2.07 0-2.86zM5.41 20L4 18.59l7.72-7.72 1.47 1.35L5.41 20z\"/>\n",
              "  </svg>\n",
              "      </button>\n",
              "      \n",
              "  <style>\n",
              "    .colab-df-container {\n",
              "      display:flex;\n",
              "      flex-wrap:wrap;\n",
              "      gap: 12px;\n",
              "    }\n",
              "\n",
              "    .colab-df-convert {\n",
              "      background-color: #E8F0FE;\n",
              "      border: none;\n",
              "      border-radius: 50%;\n",
              "      cursor: pointer;\n",
              "      display: none;\n",
              "      fill: #1967D2;\n",
              "      height: 32px;\n",
              "      padding: 0 0 0 0;\n",
              "      width: 32px;\n",
              "    }\n",
              "\n",
              "    .colab-df-convert:hover {\n",
              "      background-color: #E2EBFA;\n",
              "      box-shadow: 0px 1px 2px rgba(60, 64, 67, 0.3), 0px 1px 3px 1px rgba(60, 64, 67, 0.15);\n",
              "      fill: #174EA6;\n",
              "    }\n",
              "\n",
              "    [theme=dark] .colab-df-convert {\n",
              "      background-color: #3B4455;\n",
              "      fill: #D2E3FC;\n",
              "    }\n",
              "\n",
              "    [theme=dark] .colab-df-convert:hover {\n",
              "      background-color: #434B5C;\n",
              "      box-shadow: 0px 1px 3px 1px rgba(0, 0, 0, 0.15);\n",
              "      filter: drop-shadow(0px 1px 2px rgba(0, 0, 0, 0.3));\n",
              "      fill: #FFFFFF;\n",
              "    }\n",
              "  </style>\n",
              "\n",
              "      <script>\n",
              "        const buttonEl =\n",
              "          document.querySelector('#df-5d08063a-ce0d-4715-ba00-ee021b84b42b button.colab-df-convert');\n",
              "        buttonEl.style.display =\n",
              "          google.colab.kernel.accessAllowed ? 'block' : 'none';\n",
              "\n",
              "        async function convertToInteractive(key) {\n",
              "          const element = document.querySelector('#df-5d08063a-ce0d-4715-ba00-ee021b84b42b');\n",
              "          const dataTable =\n",
              "            await google.colab.kernel.invokeFunction('convertToInteractive',\n",
              "                                                     [key], {});\n",
              "          if (!dataTable) return;\n",
              "\n",
              "          const docLinkHtml = 'Like what you see? Visit the ' +\n",
              "            '<a target=\"_blank\" href=https://colab.research.google.com/notebooks/data_table.ipynb>data table notebook</a>'\n",
              "            + ' to learn more about interactive tables.';\n",
              "          element.innerHTML = '';\n",
              "          dataTable['output_type'] = 'display_data';\n",
              "          await google.colab.output.renderOutput(dataTable, element);\n",
              "          const docLink = document.createElement('div');\n",
              "          docLink.innerHTML = docLinkHtml;\n",
              "          element.appendChild(docLink);\n",
              "        }\n",
              "      </script>\n",
              "    </div>\n",
              "  </div>\n",
              "  "
            ]
          },
          "metadata": {},
          "execution_count": 13
        }
      ]
    },
    {
      "cell_type": "markdown",
      "source": [
        "# Step 3: Exploratory data analysis\n",
        "\n",
        "\n",
        "---\n",
        "check correlation matrix between the numerical variables"
      ],
      "metadata": {
        "id": "aDQ5rJAyN_jQ"
      }
    },
    {
      "cell_type": "code",
      "source": [
        "correlation_matrix = round(titanic_data[['survived','age','fare','family_size','mpc','sibsp','parch']].corr(),2)\n",
        "\n",
        "import seaborn as sns\n",
        "sns.set(rc={'figure.figsize':(8,8)})\n",
        "g = sns.heatmap(correlation_matrix, cmap=\"YlGnBu\", annot=True, linewidth=.5)\n"
      ],
      "metadata": {
        "colab": {
          "base_uri": "https://localhost:8080/",
          "height": 688
        },
        "id": "wmlKV_KDSjkd",
        "outputId": "a035095b-d42a-4515-b85c-87d0db2c35b6"
      },
      "execution_count": 14,
      "outputs": [
        {
          "output_type": "display_data",
          "data": {
            "text/plain": [
              "<Figure size 800x800 with 2 Axes>"
            ],
            "image/png": "[encoded data removed]"
          },
          "metadata": {}
        }
      ]
    },
    {
      "cell_type": "markdown",
      "source": [
        "Show correlation table, highlit rows with high correlation coeffcients\n",
        "\n",
        "\n",
        "---\n",
        "\n"
      ],
      "metadata": {
        "id": "erzY4RCeTNqH"
      }
    },
    {
      "cell_type": "code",
      "source": [
        "\n",
        "def format_correlation(x):\n",
        "  if(x == 1):\n",
        "    return ''\n",
        "  elif(x <= -0.7):\n",
        "    return 'background-color: red'\n",
        "  elif(x <= -0.5):\n",
        "    return 'background-color: #ffcccb'   \n",
        "  elif(x >= 0.7):\n",
        "    return 'background-color: green'\n",
        "  elif(x >= 0.5):\n",
        "    return 'background-color: green'\n",
        "  elif((abs(x) < 0.5) & (abs(x) > 0.2)):\n",
        "      return 'background-color: #ffff00'    \n",
        "  return ''\n",
        "display(correlation_matrix.style.applymap(format_correlation))\n",
        "display(g)"
      ],
      "metadata": {
        "colab": {
          "base_uri": "https://localhost:8080/",
          "height": 287
        },
        "id": "ztQiJ4duTMxn",
        "outputId": "a0ac9913-29c8-4611-d6b3-484f6a6e6f1a"
      },
      "execution_count": 15,
      "outputs": [
        {
          "output_type": "display_data",
          "data": {
            "text/plain": [
              "<pandas.io.formats.style.Styler at 0x7f36a0812f50>"
            ],
            "text/html": [
              "<style type=\"text/css\">\n",
              "#T_a062d_row0_col2, #T_a062d_row0_col4, #T_a062d_row1_col3, #T_a062d_row1_col5, #T_a062d_row2_col0, #T_a062d_row2_col3, #T_a062d_row2_col4, #T_a062d_row2_col6, #T_a062d_row3_col1, #T_a062d_row3_col2, #T_a062d_row4_col0, #T_a062d_row4_col2, #T_a062d_row4_col5, #T_a062d_row5_col1, #T_a062d_row5_col4, #T_a062d_row5_col6, #T_a062d_row6_col2, #T_a062d_row6_col5 {\n",
              "  background-color: #ffff00;\n",
              "}\n",
              "#T_a062d_row1_col4, #T_a062d_row3_col5, #T_a062d_row3_col6, #T_a062d_row4_col1, #T_a062d_row5_col3, #T_a062d_row6_col3 {\n",
              "  background-color: green;\n",
              "}\n",
              "</style>\n",
              "<table id=\"T_a062d\" class=\"dataframe\">\n",
              "  <thead>\n",
              "    <tr>\n",
              "      <th class=\"blank level0\" >&nbsp;</th>\n",
              "      <th id=\"T_a062d_level0_col0\" class=\"col_heading level0 col0\" >survived</th>\n",
              "      <th id=\"T_a062d_level0_col1\" class=\"col_heading level0 col1\" >age</th>\n",
              "      <th id=\"T_a062d_level0_col2\" class=\"col_heading level0 col2\" >fare</th>\n",
              "      <th id=\"T_a062d_level0_col3\" class=\"col_heading level0 col3\" >family_size</th>\n",
              "      <th id=\"T_a062d_level0_col4\" class=\"col_heading level0 col4\" >mpc</th>\n",
              "      <th id=\"T_a062d_level0_col5\" class=\"col_heading level0 col5\" >sibsp</th>\n",
              "      <th id=\"T_a062d_level0_col6\" class=\"col_heading level0 col6\" >parch</th>\n",
              "    </tr>\n",
              "  </thead>\n",
              "  <tbody>\n",
              "    <tr>\n",
              "      <th id=\"T_a062d_level0_row0\" class=\"row_heading level0 row0\" >survived</th>\n",
              "      <td id=\"T_a062d_row0_col0\" class=\"data row0 col0\" >1.000000</td>\n",
              "      <td id=\"T_a062d_row0_col1\" class=\"data row0 col1\" >-0.070000</td>\n",
              "      <td id=\"T_a062d_row0_col2\" class=\"data row0 col2\" >0.240000</td>\n",
              "      <td id=\"T_a062d_row0_col3\" class=\"data row0 col3\" >0.030000</td>\n",
              "      <td id=\"T_a062d_row0_col4\" class=\"data row0 col4\" >-0.320000</td>\n",
              "      <td id=\"T_a062d_row0_col5\" class=\"data row0 col5\" >-0.030000</td>\n",
              "      <td id=\"T_a062d_row0_col6\" class=\"data row0 col6\" >0.080000</td>\n",
              "    </tr>\n",
              "    <tr>\n",
              "      <th id=\"T_a062d_level0_row1\" class=\"row_heading level0 row1\" >age</th>\n",
              "      <td id=\"T_a062d_row1_col0\" class=\"data row1 col0\" >-0.070000</td>\n",
              "      <td id=\"T_a062d_row1_col1\" class=\"data row1 col1\" >1.000000</td>\n",
              "      <td id=\"T_a062d_row1_col2\" class=\"data row1 col2\" >0.170000</td>\n",
              "      <td id=\"T_a062d_row1_col3\" class=\"data row1 col3\" >-0.220000</td>\n",
              "      <td id=\"T_a062d_row1_col4\" class=\"data row1 col4\" >0.540000</td>\n",
              "      <td id=\"T_a062d_row1_col5\" class=\"data row1 col5\" >-0.220000</td>\n",
              "      <td id=\"T_a062d_row1_col6\" class=\"data row1 col6\" >-0.140000</td>\n",
              "    </tr>\n",
              "    <tr>\n",
              "      <th id=\"T_a062d_level0_row2\" class=\"row_heading level0 row2\" >fare</th>\n",
              "      <td id=\"T_a062d_row2_col0\" class=\"data row2 col0\" >0.240000</td>\n",
              "      <td id=\"T_a062d_row2_col1\" class=\"data row2 col1\" >0.170000</td>\n",
              "      <td id=\"T_a062d_row2_col2\" class=\"data row2 col2\" >1.000000</td>\n",
              "      <td id=\"T_a062d_row2_col3\" class=\"data row2 col3\" >0.230000</td>\n",
              "      <td id=\"T_a062d_row2_col4\" class=\"data row2 col4\" >-0.330000</td>\n",
              "      <td id=\"T_a062d_row2_col5\" class=\"data row2 col5\" >0.160000</td>\n",
              "      <td id=\"T_a062d_row2_col6\" class=\"data row2 col6\" >0.220000</td>\n",
              "    </tr>\n",
              "    <tr>\n",
              "      <th id=\"T_a062d_level0_row3\" class=\"row_heading level0 row3\" >family_size</th>\n",
              "      <td id=\"T_a062d_row3_col0\" class=\"data row3 col0\" >0.030000</td>\n",
              "      <td id=\"T_a062d_row3_col1\" class=\"data row3 col1\" >-0.220000</td>\n",
              "      <td id=\"T_a062d_row3_col2\" class=\"data row3 col2\" >0.230000</td>\n",
              "      <td id=\"T_a062d_row3_col3\" class=\"data row3 col3\" >1.000000</td>\n",
              "      <td id=\"T_a062d_row3_col4\" class=\"data row3 col4\" >-0.200000</td>\n",
              "      <td id=\"T_a062d_row3_col5\" class=\"data row3 col5\" >0.860000</td>\n",
              "      <td id=\"T_a062d_row3_col6\" class=\"data row3 col6\" >0.790000</td>\n",
              "    </tr>\n",
              "    <tr>\n",
              "      <th id=\"T_a062d_level0_row4\" class=\"row_heading level0 row4\" >mpc</th>\n",
              "      <td id=\"T_a062d_row4_col0\" class=\"data row4 col0\" >-0.320000</td>\n",
              "      <td id=\"T_a062d_row4_col1\" class=\"data row4 col1\" >0.540000</td>\n",
              "      <td id=\"T_a062d_row4_col2\" class=\"data row4 col2\" >-0.330000</td>\n",
              "      <td id=\"T_a062d_row4_col3\" class=\"data row4 col3\" >-0.200000</td>\n",
              "      <td id=\"T_a062d_row4_col4\" class=\"data row4 col4\" >1.000000</td>\n",
              "      <td id=\"T_a062d_row4_col5\" class=\"data row4 col5\" >-0.210000</td>\n",
              "      <td id=\"T_a062d_row4_col6\" class=\"data row4 col6\" >-0.120000</td>\n",
              "    </tr>\n",
              "    <tr>\n",
              "      <th id=\"T_a062d_level0_row5\" class=\"row_heading level0 row5\" >sibsp</th>\n",
              "      <td id=\"T_a062d_row5_col0\" class=\"data row5 col0\" >-0.030000</td>\n",
              "      <td id=\"T_a062d_row5_col1\" class=\"data row5 col1\" >-0.220000</td>\n",
              "      <td id=\"T_a062d_row5_col2\" class=\"data row5 col2\" >0.160000</td>\n",
              "      <td id=\"T_a062d_row5_col3\" class=\"data row5 col3\" >0.860000</td>\n",
              "      <td id=\"T_a062d_row5_col4\" class=\"data row5 col4\" >-0.210000</td>\n",
              "      <td id=\"T_a062d_row5_col5\" class=\"data row5 col5\" >1.000000</td>\n",
              "      <td id=\"T_a062d_row5_col6\" class=\"data row5 col6\" >0.370000</td>\n",
              "    </tr>\n",
              "    <tr>\n",
              "      <th id=\"T_a062d_level0_row6\" class=\"row_heading level0 row6\" >parch</th>\n",
              "      <td id=\"T_a062d_row6_col0\" class=\"data row6 col0\" >0.080000</td>\n",
              "      <td id=\"T_a062d_row6_col1\" class=\"data row6 col1\" >-0.140000</td>\n",
              "      <td id=\"T_a062d_row6_col2\" class=\"data row6 col2\" >0.220000</td>\n",
              "      <td id=\"T_a062d_row6_col3\" class=\"data row6 col3\" >0.790000</td>\n",
              "      <td id=\"T_a062d_row6_col4\" class=\"data row6 col4\" >-0.120000</td>\n",
              "      <td id=\"T_a062d_row6_col5\" class=\"data row6 col5\" >0.370000</td>\n",
              "      <td id=\"T_a062d_row6_col6\" class=\"data row6 col6\" >1.000000</td>\n",
              "    </tr>\n",
              "  </tbody>\n",
              "</table>\n"
            ]
          },
          "metadata": {}
        },
        {
          "output_type": "display_data",
          "data": {
            "text/plain": [
              "<Axes: >"
            ]
          },
          "metadata": {}
        }
      ]
    },
    {
      "cell_type": "markdown",
      "source": [
        "next inspect the categorical variables\n",
        "\n",
        "\n",
        "---\n",
        "\n"
      ],
      "metadata": {
        "id": "1fW3bjX9Th9D"
      }
    },
    {
      "cell_type": "code",
      "source": [
        "import matplotlib.pyplot as plt\n",
        "sns.set_theme(style=\"dark\", palette=\"Accent\")\n",
        "plt.figure(figsize=(18,5))\n",
        "sns.barplot(data=titanic_data, x=\"demographic_class\", y=\"survived\", errorbar=None)\n",
        "\n",
        "\n",
        "f,ax = plt.subplots(1,3,figsize=(18,6))\n",
        "sns.barplot(data=titanic_data, x=\"sex\", y=\"survived\",ax=ax[0], errorbar=None)\n",
        "sns.barplot(data=titanic_data, x=\"embarked\", y=\"survived\",ax=ax[1], errorbar=None)\n",
        "sns.barplot(data=titanic_data, x=\"age_range\", y=\"survived\", ax=ax[2], errorbar=None)"
      ],
      "metadata": {
        "colab": {
          "base_uri": "https://localhost:8080/",
          "height": 1000
        },
        "id": "4mRrLsi0ToOi",
        "outputId": "ec6f4ecb-e070-4c55-f3a0-057836cc99a4"
      },
      "execution_count": 16,
      "outputs": [
        {
          "output_type": "execute_result",
          "data": {
            "text/plain": [
              "<Axes: xlabel='age_range', ylabel='survived'>"
            ]
          },
          "metadata": {},
          "execution_count": 16
        },
        {
          "output_type": "display_data",
          "data": {
            "text/plain": [
              "<Figure size 1800x500 with 1 Axes>"
            ],
            "image/png": "[encoded data removed]"
          },
          "metadata": {}
        },
        {
          "output_type": "display_data",
          "data": {
            "text/plain": [
              "<Figure size 1800x600 with 3 Axes>"
            ],
            "image/png": "[encoded data removed]"
          },
          "metadata": {}
        }
      ]
    },
    {
      "cell_type": "markdown",
      "source": [
        "# Step 4: prepare data for machine learning models\n",
        "\n",
        "\n",
        "---\n",
        "encode all categorical variables into numerical"
      ],
      "metadata": {
        "id": "KgLNQ2noQpqi"
      }
    },
    {
      "cell_type": "code",
      "source": [
        "sex_code = {'female': 0, 'male': 1}\n",
        "embarked_code = {'S':0, 'C':1,'Q':2}\n",
        "age_range_code = {'infant':0,'child':1,'teenager':2,'adult':3}\n",
        "class_range = dict()\n",
        "for idx, x in enumerate(titanic_data['demographic_class'].unique()):\n",
        "  class_range[x] = idx\n",
        "\n",
        "titanic_data['sex'] = titanic_data['sex'].map(sex_code)\n",
        "titanic_data['embarked'] = titanic_data['embarked'].map(embarked_code)\n",
        "titanic_data['age_range'] = titanic_data['age_range'].map(age_range_code)\n",
        "titanic_data['demographic_class'] = titanic_data['demographic_class'].map(class_range)\n"
      ],
      "metadata": {
        "id": "ihemFPlON7WB"
      },
      "execution_count": 17,
      "outputs": []
    },
    {
      "cell_type": "markdown",
      "source": [
        "Scaling all numerical variables using MinMax scaler\n",
        "\n",
        "\n",
        "---\n",
        "\n"
      ],
      "metadata": {
        "id": "hjagykbYQ5eM"
      }
    },
    {
      "cell_type": "code",
      "source": [
        "from sklearn.preprocessing import MinMaxScaler\n",
        "from sklearn import preprocessing\n",
        "\n",
        "scaler = MinMaxScaler()\n",
        "titanic_data[['pclass','sex','embarked','age_range','demographic_class','age','fare','mpc','family_size','parch','sibsp']] = scaler.fit_transform(titanic_data[['pclass','sex','embarked','age_range','demographic_class','age','fare','mpc','family_size','parch','sibsp']])\n",
        "titanic_data.describe()"
      ],
      "metadata": {
        "colab": {
          "base_uri": "https://localhost:8080/",
          "height": 300
        },
        "id": "l2Ofkh4PQ6SK",
        "outputId": "7b186c7b-fb8f-49dd-c2d4-4fecd2567863"
      },
      "execution_count": 18,
      "outputs": [
        {
          "output_type": "execute_result",
          "data": {
            "text/plain": [
              "            pclass     survived          sex          age        sibsp  \\\n",
              "count  1309.000000  1309.000000  1309.000000  1309.000000  1309.000000   \n",
              "mean      0.647441     0.381971     0.644003     0.372403     0.062357   \n",
              "std       0.418918     0.486055     0.478997     0.165267     0.130207   \n",
              "min       0.000000     0.000000     0.000000     0.000000     0.000000   \n",
              "25%       0.500000     0.000000     0.000000     0.270658     0.000000   \n",
              "50%       1.000000     0.000000     1.000000     0.373695     0.000000   \n",
              "75%       1.000000     1.000000     1.000000     0.448852     0.125000   \n",
              "max       1.000000     1.000000     1.000000     1.000000     1.000000   \n",
              "\n",
              "             parch         fare     embarked  demographic_class    age_range  \\\n",
              "count  1309.000000  1309.000000  1309.000000        1309.000000  1309.000000   \n",
              "mean      0.042781     0.064959     0.197097           0.112974     0.905017   \n",
              "std       0.096173     0.100993     0.326750           0.107344     0.252529   \n",
              "min       0.000000     0.000000     0.000000           0.000000     0.000000   \n",
              "25%       0.000000     0.015412     0.000000           0.117647     1.000000   \n",
              "50%       0.000000     0.028213     0.000000           0.117647     1.000000   \n",
              "75%       0.000000     0.061045     0.500000           0.117647     1.000000   \n",
              "max       1.000000     1.000000     1.000000           1.000000     1.000000   \n",
              "\n",
              "       family_size          mpc  \n",
              "count  1309.000000  1309.000000  \n",
              "mean      0.088388     0.288658  \n",
              "std       0.158364     0.146137  \n",
              "min       0.000000     0.000000  \n",
              "25%       0.000000     0.187359  \n",
              "50%       0.000000     0.282167  \n",
              "75%       0.100000     0.404063  \n",
              "max       1.000000     1.000000  "
            ],
            "text/html": [
              "\n",
              "  <div id=\"df-86cc4d1d-f80e-44ea-9dee-294b33a94a67\">\n",
              "    <div class=\"colab-df-container\">\n",
              "      <div>\n",
              "<style scoped>\n",
              "    .dataframe tbody tr th:only-of-type {\n",
              "        vertical-align: middle;\n",
              "    }\n",
              "\n",
              "    .dataframe tbody tr th {\n",
              "        vertical-align: top;\n",
              "    }\n",
              "\n",
              "    .dataframe thead th {\n",
              "        text-align: right;\n",
              "    }\n",
              "</style>\n",
              "<table border=\"1\" class=\"dataframe\">\n",
              "  <thead>\n",
              "    <tr style=\"text-align: right;\">\n",
              "      <th></th>\n",
              "      <th>pclass</th>\n",
              "      <th>survived</th>\n",
              "      <th>sex</th>\n",
              "      <th>age</th>\n",
              "      <th>sibsp</th>\n",
              "      <th>parch</th>\n",
              "      <th>fare</th>\n",
              "      <th>embarked</th>\n",
              "      <th>demographic_class</th>\n",
              "      <th>age_range</th>\n",
              "      <th>family_size</th>\n",
              "      <th>mpc</th>\n",
              "    </tr>\n",
              "  </thead>\n",
              "  <tbody>\n",
              "    <tr>\n",
              "      <th>count</th>\n",
              "      <td>1309.000000</td>\n",
              "      <td>1309.000000</td>\n",
              "      <td>1309.000000</td>\n",
              "      <td>1309.000000</td>\n",
              "      <td>1309.000000</td>\n",
              "      <td>1309.000000</td>\n",
              "      <td>1309.000000</td>\n",
              "      <td>1309.000000</td>\n",
              "      <td>1309.000000</td>\n",
              "      <td>1309.000000</td>\n",
              "      <td>1309.000000</td>\n",
              "      <td>1309.000000</td>\n",
              "    </tr>\n",
              "    <tr>\n",
              "      <th>mean</th>\n",
              "      <td>0.647441</td>\n",
              "      <td>0.381971</td>\n",
              "      <td>0.644003</td>\n",
              "      <td>0.372403</td>\n",
              "      <td>0.062357</td>\n",
              "      <td>0.042781</td>\n",
              "      <td>0.064959</td>\n",
              "      <td>0.197097</td>\n",
              "      <td>0.112974</td>\n",
              "      <td>0.905017</td>\n",
              "      <td>0.088388</td>\n",
              "      <td>0.288658</td>\n",
              "    </tr>\n",
              "    <tr>\n",
              "      <th>std</th>\n",
              "      <td>0.418918</td>\n",
              "      <td>0.486055</td>\n",
              "      <td>0.478997</td>\n",
              "      <td>0.165267</td>\n",
              "      <td>0.130207</td>\n",
              "      <td>0.096173</td>\n",
              "      <td>0.100993</td>\n",
              "      <td>0.326750</td>\n",
              "      <td>0.107344</td>\n",
              "      <td>0.252529</td>\n",
              "      <td>0.158364</td>\n",
              "      <td>0.146137</td>\n",
              "    </tr>\n",
              "    <tr>\n",
              "      <th>min</th>\n",
              "      <td>0.000000</td>\n",
              "      <td>0.000000</td>\n",
              "      <td>0.000000</td>\n",
              "      <td>0.000000</td>\n",
              "      <td>0.000000</td>\n",
              "      <td>0.000000</td>\n",
              "      <td>0.000000</td>\n",
              "      <td>0.000000</td>\n",
              "      <td>0.000000</td>\n",
              "      <td>0.000000</td>\n",
              "      <td>0.000000</td>\n",
              "      <td>0.000000</td>\n",
              "    </tr>\n",
              "    <tr>\n",
              "      <th>25%</th>\n",
              "      <td>0.500000</td>\n",
              "      <td>0.000000</td>\n",
              "      <td>0.000000</td>\n",
              "      <td>0.270658</td>\n",
              "      <td>0.000000</td>\n",
              "      <td>0.000000</td>\n",
              "      <td>0.015412</td>\n",
              "      <td>0.000000</td>\n",
              "      <td>0.117647</td>\n",
              "      <td>1.000000</td>\n",
              "      <td>0.000000</td>\n",
              "      <td>0.187359</td>\n",
              "    </tr>\n",
              "    <tr>\n",
              "      <th>50%</th>\n",
              "      <td>1.000000</td>\n",
              "      <td>0.000000</td>\n",
              "      <td>1.000000</td>\n",
              "      <td>0.373695</td>\n",
              "      <td>0.000000</td>\n",
              "      <td>0.000000</td>\n",
              "      <td>0.028213</td>\n",
              "      <td>0.000000</td>\n",
              "      <td>0.117647</td>\n",
              "      <td>1.000000</td>\n",
              "      <td>0.000000</td>\n",
              "      <td>0.282167</td>\n",
              "    </tr>\n",
              "    <tr>\n",
              "      <th>75%</th>\n",
              "      <td>1.000000</td>\n",
              "      <td>1.000000</td>\n",
              "      <td>1.000000</td>\n",
              "      <td>0.448852</td>\n",
              "      <td>0.125000</td>\n",
              "      <td>0.000000</td>\n",
              "      <td>0.061045</td>\n",
              "      <td>0.500000</td>\n",
              "      <td>0.117647</td>\n",
              "      <td>1.000000</td>\n",
              "      <td>0.100000</td>\n",
              "      <td>0.404063</td>\n",
              "    </tr>\n",
              "    <tr>\n",
              "      <th>max</th>\n",
              "      <td>1.000000</td>\n",
              "      <td>1.000000</td>\n",
              "      <td>1.000000</td>\n",
              "      <td>1.000000</td>\n",
              "      <td>1.000000</td>\n",
              "      <td>1.000000</td>\n",
              "      <td>1.000000</td>\n",
              "      <td>1.000000</td>\n",
              "      <td>1.000000</td>\n",
              "      <td>1.000000</td>\n",
              "      <td>1.000000</td>\n",
              "      <td>1.000000</td>\n",
              "    </tr>\n",
              "  </tbody>\n",
              "</table>\n",
              "</div>\n",
              "      <button class=\"colab-df-convert\" onclick=\"convertToInteractive('df-86cc4d1d-f80e-44ea-9dee-294b33a94a67')\"\n",
              "              title=\"Convert this dataframe to an interactive table.\"\n",
              "              style=\"display:none;\">\n",
              "        \n",
              "  <svg xmlns=\"http://www.w3.org/2000/svg\" height=\"24px\"viewBox=\"0 0 24 24\"\n",
              "       width=\"24px\">\n",
              "    <path d=\"M0 0h24v24H0V0z\" fill=\"none\"/>\n",
              "    <path d=\"M18.56 5.44l.94 2.06.94-2.06 2.06-.94-2.06-.94-.94-2.06-.94 2.06-2.06.94zm-11 1L8.5 8.5l.94-2.06 2.06-.94-2.06-.94L8.5 2.5l-.94 2.06-2.06.94zm10 10l.94 2.06.94-2.06 2.06-.94-2.06-.94-.94-2.06-.94 2.06-2.06.94z\"/><path d=\"M17.41 7.96l-1.37-1.37c-.4-.4-.92-.59-1.43-.59-.52 0-1.04.2-1.43.59L10.3 9.45l-7.72 7.72c-.78.78-.78 2.05 0 2.83L4 21.41c.39.39.9.59 1.41.59.51 0 1.02-.2 1.41-.59l7.78-7.78 2.81-2.81c.8-.78.8-2.07 0-2.86zM5.41 20L4 18.59l7.72-7.72 1.47 1.35L5.41 20z\"/>\n",
              "  </svg>\n",
              "      </button>\n",
              "      \n",
              "  <style>\n",
              "    .colab-df-container {\n",
              "      display:flex;\n",
              "      flex-wrap:wrap;\n",
              "      gap: 12px;\n",
              "    }\n",
              "\n",
              "    .colab-df-convert {\n",
              "      background-color: #E8F0FE;\n",
              "      border: none;\n",
              "      border-radius: 50%;\n",
              "      cursor: pointer;\n",
              "      display: none;\n",
              "      fill: #1967D2;\n",
              "      height: 32px;\n",
              "      padding: 0 0 0 0;\n",
              "      width: 32px;\n",
              "    }\n",
              "\n",
              "    .colab-df-convert:hover {\n",
              "      background-color: #E2EBFA;\n",
              "      box-shadow: 0px 1px 2px rgba(60, 64, 67, 0.3), 0px 1px 3px 1px rgba(60, 64, 67, 0.15);\n",
              "      fill: #174EA6;\n",
              "    }\n",
              "\n",
              "    [theme=dark] .colab-df-convert {\n",
              "      background-color: #3B4455;\n",
              "      fill: #D2E3FC;\n",
              "    }\n",
              "\n",
              "    [theme=dark] .colab-df-convert:hover {\n",
              "      background-color: #434B5C;\n",
              "      box-shadow: 0px 1px 3px 1px rgba(0, 0, 0, 0.15);\n",
              "      filter: drop-shadow(0px 1px 2px rgba(0, 0, 0, 0.3));\n",
              "      fill: #FFFFFF;\n",
              "    }\n",
              "  </style>\n",
              "\n",
              "      <script>\n",
              "        const buttonEl =\n",
              "          document.querySelector('#df-86cc4d1d-f80e-44ea-9dee-294b33a94a67 button.colab-df-convert');\n",
              "        buttonEl.style.display =\n",
              "          google.colab.kernel.accessAllowed ? 'block' : 'none';\n",
              "\n",
              "        async function convertToInteractive(key) {\n",
              "          const element = document.querySelector('#df-86cc4d1d-f80e-44ea-9dee-294b33a94a67');\n",
              "          const dataTable =\n",
              "            await google.colab.kernel.invokeFunction('convertToInteractive',\n",
              "                                                     [key], {});\n",
              "          if (!dataTable) return;\n",
              "\n",
              "          const docLinkHtml = 'Like what you see? Visit the ' +\n",
              "            '<a target=\"_blank\" href=https://colab.research.google.com/notebooks/data_table.ipynb>data table notebook</a>'\n",
              "            + ' to learn more about interactive tables.';\n",
              "          element.innerHTML = '';\n",
              "          dataTable['output_type'] = 'display_data';\n",
              "          await google.colab.output.renderOutput(dataTable, element);\n",
              "          const docLink = document.createElement('div');\n",
              "          docLink.innerHTML = docLinkHtml;\n",
              "          element.appendChild(docLink);\n",
              "        }\n",
              "      </script>\n",
              "    </div>\n",
              "  </div>\n",
              "  "
            ]
          },
          "metadata": {},
          "execution_count": 18
        }
      ]
    },
    {
      "cell_type": "markdown",
      "source": [
        "Splitting data to targets and predictors\n",
        "\n",
        "\n",
        "---\n",
        "\n"
      ],
      "metadata": {
        "id": "km2wYln8Kd_T"
      }
    },
    {
      "cell_type": "code",
      "source": [
        "target = ['not_survived', 'survivied']\n",
        "X = titanic_data[['pclass','sex','embarked','age_range','demographic_class','age','fare','mpc','family_size','parch','sibsp']]\n",
        "y = titanic_data[['survived']]\n"
      ],
      "metadata": {
        "id": "eqZU-PeF3OaF"
      },
      "execution_count": 19,
      "outputs": []
    },
    {
      "cell_type": "markdown",
      "source": [
        "Splitting data to train and test sets\n",
        "\n",
        "\n",
        "---\n",
        "\n"
      ],
      "metadata": {
        "id": "G8MCW3qgKlKi"
      }
    },
    {
      "cell_type": "code",
      "source": [
        "from sklearn.model_selection import train_test_split\n",
        "from sklearn.linear_model import LogisticRegression\n",
        "X_train, X_test, y_train, y_test = train_test_split(X, y, test_size=0.33, random_state=42, stratify=y)\n",
        "\n",
        "\n"
      ],
      "metadata": {
        "id": "JNSUO7PN77AZ"
      },
      "execution_count": 20,
      "outputs": []
    },
    {
      "cell_type": "markdown",
      "source": [
        "# Step 4: Feature selecting, Hyperparameters tuning\n",
        "\n",
        "\n",
        "\n",
        "\n",
        "\n",
        "\n",
        "Preparing feature sets for feature selection\n",
        "\n",
        "\n",
        "---\n",
        "\n"
      ],
      "metadata": {
        "id": "qAehc0pfKpad"
      }
    },
    {
      "cell_type": "code",
      "source": [
        "f_set1 = ('pclass', 'sex', 'embarked','age','fare', 'parch','sibsp')\n",
        "f_set2 = ('pclass', 'sex', 'embarked','age','fare', 'parch','sibsp', 'demographic_class')\n",
        "f_set3 = ('mpc', 'sex', 'embarked','fare', 'family_size', 'demographic_class')\n",
        "f_set4 = ('pclass', 'sex', 'embarked','age_range','fare', 'family_size','demographic_class')\n",
        "\n",
        "f_sets = (f_set1,f_set2,f_set3,f_set4)"
      ],
      "metadata": {
        "id": "1XwVBt4HegG7"
      },
      "execution_count": 21,
      "outputs": []
    },
    {
      "cell_type": "markdown",
      "source": [
        "Defining grids for hyperparameter tuning\n",
        "\n",
        "\n",
        "---\n",
        "\n"
      ],
      "metadata": {
        "id": "En5MVwDpKxKY"
      }
    },
    {
      "cell_type": "code",
      "source": [
        "from sklearn import tree\n",
        "from sklearn.linear_model import LogisticRegression\n",
        "from sklearn.ensemble import RandomForestClassifier\n",
        "from xgboost import XGBClassifier\n",
        "from sklearn.model_selection import GridSearchCV\n",
        "tree_grid = {\n",
        "    'criterion' : ['gini'],\n",
        "    'max_depth' : [4,5,6,7],\n",
        "    'random_state': [1]\n",
        "}\n",
        "\n",
        "random_forest_grid= {\n",
        "    'n_estimators': [200,250,300,350,400,500],\n",
        "    'max_depth' : [4,5,6,7],\n",
        "    'criterion' :['entropy'],\n",
        "    'max_features': ['log2', 'sqrt'],\n",
        "    'random_state' : [1]\n",
        "    }\n",
        "\n",
        "\n",
        "xgboost_grid = {\n",
        "    'tree_method' :['gpu_hist'],\n",
        "    'max_depth': [2,3,4,5,6,7],\n",
        "    'n_estimators': [200,250,300,350,400,500],\n",
        "    'learning_rate': [0.1, 0.01, 0.05],\n",
        "    'objective' : ['binary:logistic'],\n",
        "    'nthread':[4],\n",
        "    'seed':[42],\n",
        "    'predictor':['gpu_predictor']\n",
        "}\n",
        "\n"
      ],
      "metadata": {
        "id": "Z-2zsAcM7hJx"
      },
      "execution_count": 23,
      "outputs": []
    },
    {
      "cell_type": "markdown",
      "source": [
        "Running grid search over parameter space\n",
        "\n",
        "\n",
        "---\n",
        "\n"
      ],
      "metadata": {
        "id": "vp04WJzJK2b0"
      }
    },
    {
      "cell_type": "code",
      "source": [
        "clf_tree = tree.DecisionTreeClassifier()\n",
        "clf_forest = RandomForestClassifier()\n",
        "clf_xgboost = XGBClassifier()\n",
        "res = dict()\n",
        "for s in f_sets:\n",
        "\n",
        "  tree_cv = GridSearchCV(clf_tree, param_grid=tree_grid, cv= 5, scoring = 'accuracy')\n",
        "  tree_cv.fit(X_train[list(s)], y_train.values.ravel())\n",
        "\n",
        "  random_forest_cv = GridSearchCV(clf_forest, param_grid=random_forest_grid, cv= 5, scoring = 'accuracy')\n",
        "  random_forest_cv.fit(X_train[list(s)], y_train.values.ravel())\n",
        "\n",
        "\n",
        "  xgboost_cv = GridSearchCV(clf_xgboost, param_grid=xgboost_grid, cv= 5, scoring = 'accuracy')\n",
        "  xgboost_cv.fit(X_train[list(s)], y_train.values.ravel())\n",
        "\n",
        "\n",
        "  display(tree_cv.best_params_)\n",
        "  display(random_forest_cv.best_params_)\n",
        "  display(xgboost_cv.best_params_)\n",
        "  l = [tree_cv.best_params_,random_forest_cv.best_params_,xgboost_cv.best_params_]\n",
        "  res[s] = l\n",
        "\n",
        "\n",
        "print(res)\n"
      ],
      "metadata": {
        "id": "Ce4Z9OjqKv8K"
      },
      "execution_count": null,
      "outputs": []
    },
    {
      "cell_type": "markdown",
      "source": [
        "# Step 5: Model evaluation\n",
        "\n",
        "Testing best features set/hyperparameter combinations on test set\n",
        "\n",
        "\n",
        "---\n",
        "\n"
      ],
      "metadata": {
        "id": "Nu7ip4jMK77j"
      }
    },
    {
      "cell_type": "code",
      "source": [
        "\n",
        "\n",
        "for f,hp in res.items():\n",
        "  print(f\"features{f}\")\n",
        "  print(f\"Hyperparameters{hp}\")\n",
        "  clf_tree = tree.DecisionTreeClassifier(**hp[0])\n",
        "  clf_tree.fit(X_train[list(f)], y_train.values.ravel())\n",
        "  print(\"Tree score: \")\n",
        "  display(clf_tree.score(X_test[list(f)],y_test.values.ravel()))\n",
        "\n",
        "  print(\"Forest score: \")\n",
        "  clf_forest = RandomForestClassifier(**hp[1])\n",
        "  clf_forest.fit(X_train[list(f)], y_train.values.ravel())\n",
        "  display(clf_forest.score(X_test[list(f)],y_test.values.ravel()))\n",
        "\n",
        "\n",
        "  print(\"XGBoost score: \")\n",
        "  clf_xgboost = XGBClassifier(**hp[2])\n",
        "  clf_xgboost.fit(X_train[list(f)], y_train.values.ravel())\n",
        "  display(clf_xgboost.score(X_test[list(f)],y_test.values.ravel()))\n",
        "\n",
        "\n",
        "\n"
      ],
      "metadata": {
        "colab": {
          "base_uri": "https://localhost:8080/",
          "height": 621
        },
        "id": "8Ob28wuj38q-",
        "outputId": "39b068fa-a50b-42c3-8130-307c59e67695"
      },
      "execution_count": 30,
      "outputs": [
        {
          "output_type": "stream",
          "name": "stdout",
          "text": [
            "('pclass', 'sex', 'embarked', 'age', 'fare', 'parch', 'sibsp')\n",
            "[{'criterion': 'gini', 'max_depth': 5, 'random_state': 1}, {'criterion': 'entropy', 'max_depth': 6, 'max_features': 'log2', 'n_estimators': 200, 'random_state': 1}, {'learning_rate': 0.01, 'max_depth': 3, 'n_estimators': 250, 'nthread': 4, 'objective': 'binary:logistic', 'predictor': 'gpu_predictor', 'seed': 42, 'tree_method': 'gpu_hist'}]\n",
            "Tree score: \n"
          ]
        },
        {
          "output_type": "display_data",
          "data": {
            "text/plain": [
              "0.8287037037037037"
            ]
          },
          "metadata": {}
        },
        {
          "output_type": "stream",
          "name": "stdout",
          "text": [
            "Forest score: \n"
          ]
        },
        {
          "output_type": "display_data",
          "data": {
            "text/plain": [
              "0.8425925925925926"
            ]
          },
          "metadata": {}
        },
        {
          "output_type": "stream",
          "name": "stdout",
          "text": [
            "XGBoost score: \n"
          ]
        },
        {
          "output_type": "display_data",
          "data": {
            "text/plain": [
              "0.8333333333333334"
            ]
          },
          "metadata": {}
        },
        {
          "output_type": "stream",
          "name": "stdout",
          "text": [
            "('pclass', 'sex', 'embarked', 'age', 'fare', 'parch', 'sibsp', 'demographic_class')\n",
            "[{'criterion': 'gini', 'max_depth': 4, 'random_state': 1}, {'criterion': 'entropy', 'max_depth': 5, 'max_features': 'log2', 'n_estimators': 400, 'random_state': 1}, {'learning_rate': 0.01, 'max_depth': 3, 'n_estimators': 250, 'nthread': 4, 'objective': 'binary:logistic', 'predictor': 'gpu_predictor', 'seed': 42, 'tree_method': 'gpu_hist'}]\n",
            "Tree score: \n"
          ]
        },
        {
          "output_type": "display_data",
          "data": {
            "text/plain": [
              "0.8287037037037037"
            ]
          },
          "metadata": {}
        },
        {
          "output_type": "stream",
          "name": "stdout",
          "text": [
            "Forest score: \n"
          ]
        },
        {
          "output_type": "display_data",
          "data": {
            "text/plain": [
              "0.8287037037037037"
            ]
          },
          "metadata": {}
        },
        {
          "output_type": "stream",
          "name": "stdout",
          "text": [
            "XGBoost score: \n"
          ]
        },
        {
          "output_type": "display_data",
          "data": {
            "text/plain": [
              "0.8333333333333334"
            ]
          },
          "metadata": {}
        },
        {
          "output_type": "stream",
          "name": "stdout",
          "text": [
            "('mpc', 'sex', 'embarked', 'fare', 'family_size', 'demographic_class')\n",
            "[{'criterion': 'gini', 'max_depth': 4, 'random_state': 1}, {'criterion': 'entropy', 'max_depth': 5, 'max_features': 'log2', 'n_estimators': 250, 'random_state': 1}, {'learning_rate': 0.01, 'max_depth': 2, 'n_estimators': 300, 'nthread': 4, 'objective': 'binary:logistic', 'predictor': 'gpu_predictor', 'seed': 42, 'tree_method': 'gpu_hist'}]\n",
            "Tree score: \n"
          ]
        },
        {
          "output_type": "display_data",
          "data": {
            "text/plain": [
              "0.8240740740740741"
            ]
          },
          "metadata": {}
        },
        {
          "output_type": "stream",
          "name": "stdout",
          "text": [
            "Forest score: \n"
          ]
        },
        {
          "output_type": "display_data",
          "data": {
            "text/plain": [
              "0.8333333333333334"
            ]
          },
          "metadata": {}
        },
        {
          "output_type": "stream",
          "name": "stdout",
          "text": [
            "XGBoost score: \n"
          ]
        },
        {
          "output_type": "display_data",
          "data": {
            "text/plain": [
              "0.8125"
            ]
          },
          "metadata": {}
        },
        {
          "output_type": "stream",
          "name": "stdout",
          "text": [
            "('pclass', 'sex', 'embarked', 'age_range', 'fare', 'family_size', 'demographic_class')\n",
            "[{'criterion': 'gini', 'max_depth': 4, 'random_state': 1}, {'criterion': 'entropy', 'max_depth': 4, 'max_features': 'log2', 'n_estimators': 250, 'random_state': 1}, {'learning_rate': 0.01, 'max_depth': 3, 'n_estimators': 200, 'nthread': 4, 'objective': 'binary:logistic', 'predictor': 'gpu_predictor', 'seed': 42, 'tree_method': 'gpu_hist'}]\n",
            "Tree score: \n"
          ]
        },
        {
          "output_type": "display_data",
          "data": {
            "text/plain": [
              "0.8310185185185185"
            ]
          },
          "metadata": {}
        },
        {
          "output_type": "stream",
          "name": "stdout",
          "text": [
            "Forest score: \n"
          ]
        },
        {
          "output_type": "display_data",
          "data": {
            "text/plain": [
              "0.8287037037037037"
            ]
          },
          "metadata": {}
        },
        {
          "output_type": "stream",
          "name": "stdout",
          "text": [
            "XGBoost score: \n"
          ]
        },
        {
          "output_type": "display_data",
          "data": {
            "text/plain": [
              "0.8287037037037037"
            ]
          },
          "metadata": {}
        }
      ]
    },
    {
      "cell_type": "markdown",
      "source": [
        "Visualising feature importance of the best model\n",
        "\n",
        "\n",
        "---\n",
        "\n"
      ],
      "metadata": {
        "id": "uC6NjaNiLJON"
      }
    },
    {
      "cell_type": "code",
      "source": [
        "from sklearn.inspection import permutation_importance\n",
        "result = permutation_importance(\n",
        "    clf_forest, X_test[list(('pclass', 'sex', 'embarked', 'age', 'fare', 'parch', 'sibsp'))], y_test, n_repeats=10, random_state=42, n_jobs=2\n",
        ")\n",
        "\n",
        "forest_importances = pd.Series(result.importances_mean, index=feature_names)\n",
        "fig, ax = plt.subplots()\n",
        "forest_importances.plot.bar(yerr=result.importances_std, ax=ax)\n",
        "ax.set_title(\"Feature importances using permutation on full model\")\n",
        "ax.set_ylabel(\"Mean accuracy decrease\")\n",
        "fig.tight_layout()\n",
        "plt.show()\n"
      ],
      "metadata": {
        "colab": {
          "base_uri": "https://localhost:8080/",
          "height": 801
        },
        "id": "NDDNvU-6RGxG",
        "outputId": "c8695cfa-35b2-4781-ab6d-d57903f9f373"
      },
      "execution_count": 25,
      "outputs": [
        {
          "output_type": "display_data",
          "data": {
            "text/plain": [
              "<Figure size 800x800 with 1 Axes>"
            ],
            "image/png": "[encoded data removed]"
          },
          "metadata": {}
        }
      ]
    }
  ],
  "metadata": {
    "colab": {
      "provenance": [],
      "gpuType": "T4",
      "authorship_tag": "ABX9TyNBDg0ZLJio+1JUUwE/UxTd",
      "include_colab_link": true
    },
    "kernelspec": {
      "display_name": "Python 3",
      "name": "python3"
    },
    "language_info": {
      "name": "python"
    },
    "accelerator": "GPU",
    "gpuClass": "standard"
  },
  "nbformat": 4,
  "nbformat_minor": 0
}